{
 "cells": [
  {
   "cell_type": "code",
   "execution_count": 1,
   "metadata": {
    "_cell_guid": "b1076dfc-b9ad-4769-8c92-a6c4dae69d19",
    "_uuid": "8f2839f25d086af736a60e9eeb907d3b93b6e0e5"
   },
   "outputs": [
    {
     "name": "stdout",
     "output_type": "stream",
     "text": [
      "/kaggle/input/fashionmnist/train-labels-idx1-ubyte\n",
      "/kaggle/input/fashionmnist/t10k-labels-idx1-ubyte\n",
      "/kaggle/input/fashionmnist/t10k-images-idx3-ubyte\n",
      "/kaggle/input/fashionmnist/train-images-idx3-ubyte\n",
      "/kaggle/input/fashionmnist/fashion-mnist_train.csv\n",
      "/kaggle/input/fashionmnist/fashion-mnist_test.csv\n"
     ]
    }
   ],
   "source": [
    "# This Python 3 environment comes with many helpful analytics libraries installed\n",
    "# It is defined by the kaggle/python docker image: https://github.com/kaggle/docker-python\n",
    "# For example, here's several helpful packages to load in \n",
    "\n",
    "import numpy as np # linear algebra\n",
    "import pandas as pd # data processing, CSV file I/O (e.g. pd.read_csv)\n",
    "\n",
    "# Input data files are available in the \"../input/\" directory.\n",
    "# For example, running this (by clicking run or pressing Shift+Enter) will list all files under the input directory\n",
    "\n",
    "import os\n",
    "for dirname, _, filenames in os.walk('/kaggle/input'):\n",
    "    for filename in filenames:\n",
    "        print(os.path.join(dirname, filename))\n",
    "\n",
    "# Any results you write to the current directory are saved as output."
   ]
  },
  {
   "cell_type": "markdown",
   "metadata": {},
   "source": [
    "Let's read the csv files using pandas read_csv which provides data in form of pandas dataframe."
   ]
  },
  {
   "cell_type": "code",
   "execution_count": 2,
   "metadata": {},
   "outputs": [],
   "source": [
    "import pandas as pd \n",
    "train_df = pd.read_csv('/kaggle/input/fashionmnist/fashion-mnist_train.csv',sep=',')\n",
    "test_df = pd.read_csv('/kaggle/input/fashionmnist/fashion-mnist_test.csv', sep = ',')"
   ]
  },
  {
   "cell_type": "markdown",
   "metadata": {},
   "source": [
    "Let's have a look at the data"
   ]
  },
  {
   "cell_type": "code",
   "execution_count": 3,
   "metadata": {},
   "outputs": [
    {
     "data": {
      "text/html": [
       "<div>\n",
       "<style scoped>\n",
       "    .dataframe tbody tr th:only-of-type {\n",
       "        vertical-align: middle;\n",
       "    }\n",
       "\n",
       "    .dataframe tbody tr th {\n",
       "        vertical-align: top;\n",
       "    }\n",
       "\n",
       "    .dataframe thead th {\n",
       "        text-align: right;\n",
       "    }\n",
       "</style>\n",
       "<table border=\"1\" class=\"dataframe\">\n",
       "  <thead>\n",
       "    <tr style=\"text-align: right;\">\n",
       "      <th></th>\n",
       "      <th>label</th>\n",
       "      <th>pixel1</th>\n",
       "      <th>pixel2</th>\n",
       "      <th>pixel3</th>\n",
       "      <th>pixel4</th>\n",
       "      <th>pixel5</th>\n",
       "      <th>pixel6</th>\n",
       "      <th>pixel7</th>\n",
       "      <th>pixel8</th>\n",
       "      <th>pixel9</th>\n",
       "      <th>...</th>\n",
       "      <th>pixel775</th>\n",
       "      <th>pixel776</th>\n",
       "      <th>pixel777</th>\n",
       "      <th>pixel778</th>\n",
       "      <th>pixel779</th>\n",
       "      <th>pixel780</th>\n",
       "      <th>pixel781</th>\n",
       "      <th>pixel782</th>\n",
       "      <th>pixel783</th>\n",
       "      <th>pixel784</th>\n",
       "    </tr>\n",
       "  </thead>\n",
       "  <tbody>\n",
       "    <tr>\n",
       "      <td>0</td>\n",
       "      <td>2</td>\n",
       "      <td>0</td>\n",
       "      <td>0</td>\n",
       "      <td>0</td>\n",
       "      <td>0</td>\n",
       "      <td>0</td>\n",
       "      <td>0</td>\n",
       "      <td>0</td>\n",
       "      <td>0</td>\n",
       "      <td>0</td>\n",
       "      <td>...</td>\n",
       "      <td>0</td>\n",
       "      <td>0</td>\n",
       "      <td>0</td>\n",
       "      <td>0</td>\n",
       "      <td>0</td>\n",
       "      <td>0</td>\n",
       "      <td>0</td>\n",
       "      <td>0</td>\n",
       "      <td>0</td>\n",
       "      <td>0</td>\n",
       "    </tr>\n",
       "    <tr>\n",
       "      <td>1</td>\n",
       "      <td>9</td>\n",
       "      <td>0</td>\n",
       "      <td>0</td>\n",
       "      <td>0</td>\n",
       "      <td>0</td>\n",
       "      <td>0</td>\n",
       "      <td>0</td>\n",
       "      <td>0</td>\n",
       "      <td>0</td>\n",
       "      <td>0</td>\n",
       "      <td>...</td>\n",
       "      <td>0</td>\n",
       "      <td>0</td>\n",
       "      <td>0</td>\n",
       "      <td>0</td>\n",
       "      <td>0</td>\n",
       "      <td>0</td>\n",
       "      <td>0</td>\n",
       "      <td>0</td>\n",
       "      <td>0</td>\n",
       "      <td>0</td>\n",
       "    </tr>\n",
       "    <tr>\n",
       "      <td>2</td>\n",
       "      <td>6</td>\n",
       "      <td>0</td>\n",
       "      <td>0</td>\n",
       "      <td>0</td>\n",
       "      <td>0</td>\n",
       "      <td>0</td>\n",
       "      <td>0</td>\n",
       "      <td>0</td>\n",
       "      <td>5</td>\n",
       "      <td>0</td>\n",
       "      <td>...</td>\n",
       "      <td>0</td>\n",
       "      <td>0</td>\n",
       "      <td>0</td>\n",
       "      <td>30</td>\n",
       "      <td>43</td>\n",
       "      <td>0</td>\n",
       "      <td>0</td>\n",
       "      <td>0</td>\n",
       "      <td>0</td>\n",
       "      <td>0</td>\n",
       "    </tr>\n",
       "    <tr>\n",
       "      <td>3</td>\n",
       "      <td>0</td>\n",
       "      <td>0</td>\n",
       "      <td>0</td>\n",
       "      <td>0</td>\n",
       "      <td>1</td>\n",
       "      <td>2</td>\n",
       "      <td>0</td>\n",
       "      <td>0</td>\n",
       "      <td>0</td>\n",
       "      <td>0</td>\n",
       "      <td>...</td>\n",
       "      <td>3</td>\n",
       "      <td>0</td>\n",
       "      <td>0</td>\n",
       "      <td>0</td>\n",
       "      <td>0</td>\n",
       "      <td>1</td>\n",
       "      <td>0</td>\n",
       "      <td>0</td>\n",
       "      <td>0</td>\n",
       "      <td>0</td>\n",
       "    </tr>\n",
       "    <tr>\n",
       "      <td>4</td>\n",
       "      <td>3</td>\n",
       "      <td>0</td>\n",
       "      <td>0</td>\n",
       "      <td>0</td>\n",
       "      <td>0</td>\n",
       "      <td>0</td>\n",
       "      <td>0</td>\n",
       "      <td>0</td>\n",
       "      <td>0</td>\n",
       "      <td>0</td>\n",
       "      <td>...</td>\n",
       "      <td>0</td>\n",
       "      <td>0</td>\n",
       "      <td>0</td>\n",
       "      <td>0</td>\n",
       "      <td>0</td>\n",
       "      <td>0</td>\n",
       "      <td>0</td>\n",
       "      <td>0</td>\n",
       "      <td>0</td>\n",
       "      <td>0</td>\n",
       "    </tr>\n",
       "  </tbody>\n",
       "</table>\n",
       "<p>5 rows × 785 columns</p>\n",
       "</div>"
      ],
      "text/plain": [
       "   label  pixel1  pixel2  pixel3  pixel4  pixel5  pixel6  pixel7  pixel8  \\\n",
       "0      2       0       0       0       0       0       0       0       0   \n",
       "1      9       0       0       0       0       0       0       0       0   \n",
       "2      6       0       0       0       0       0       0       0       5   \n",
       "3      0       0       0       0       1       2       0       0       0   \n",
       "4      3       0       0       0       0       0       0       0       0   \n",
       "\n",
       "   pixel9  ...  pixel775  pixel776  pixel777  pixel778  pixel779  pixel780  \\\n",
       "0       0  ...         0         0         0         0         0         0   \n",
       "1       0  ...         0         0         0         0         0         0   \n",
       "2       0  ...         0         0         0        30        43         0   \n",
       "3       0  ...         3         0         0         0         0         1   \n",
       "4       0  ...         0         0         0         0         0         0   \n",
       "\n",
       "   pixel781  pixel782  pixel783  pixel784  \n",
       "0         0         0         0         0  \n",
       "1         0         0         0         0  \n",
       "2         0         0         0         0  \n",
       "3         0         0         0         0  \n",
       "4         0         0         0         0  \n",
       "\n",
       "[5 rows x 785 columns]"
      ]
     },
     "execution_count": 3,
     "metadata": {},
     "output_type": "execute_result"
    }
   ],
   "source": [
    "train_df.head()"
   ]
  },
  {
   "cell_type": "markdown",
   "metadata": {},
   "source": [
    "Here 1st column is label and rest of columns have values for the 784 pixels - 28 x 28 image size. "
   ]
  },
  {
   "cell_type": "code",
   "execution_count": 4,
   "metadata": {},
   "outputs": [
    {
     "data": {
      "text/plain": [
       "array([2, 9, 6, 0, 3, 4, 5, 8, 7, 1])"
      ]
     },
     "execution_count": 4,
     "metadata": {},
     "output_type": "execute_result"
    }
   ],
   "source": [
    "train_df.label.unique()"
   ]
  },
  {
   "cell_type": "code",
   "execution_count": 5,
   "metadata": {},
   "outputs": [],
   "source": [
    "# Mapping Classes\n",
    "clothing = {0 : 'T-shirt/top',\n",
    "            1 : 'Trouser',\n",
    "            2 : 'Pullover',\n",
    "            3 : 'Dress',\n",
    "            4 : 'Coat',\n",
    "            5 : 'Sandal',\n",
    "            6 : 'Shirt',\n",
    "            7 : 'Sneaker',\n",
    "            8 : 'Bag',\n",
    "            9 : 'Ankle boot'}"
   ]
  },
  {
   "cell_type": "markdown",
   "metadata": {},
   "source": [
    "Check if there is any NaN value or not"
   ]
  },
  {
   "cell_type": "code",
   "execution_count": 6,
   "metadata": {},
   "outputs": [
    {
     "name": "stdout",
     "output_type": "stream",
     "text": [
      "0\n",
      "0\n"
     ]
    }
   ],
   "source": [
    "print(train_df.isnull().any().sum())\n",
    "print(test_df.isnull().any().sum())"
   ]
  },
  {
   "cell_type": "markdown",
   "metadata": {},
   "source": [
    "Convert dataframes into numpy array so it can be feed to the convolution neural network which will be created using tensorflow and keras."
   ]
  },
  {
   "cell_type": "code",
   "execution_count": 7,
   "metadata": {},
   "outputs": [],
   "source": [
    "import numpy as np\n",
    "train_data = np.array(train_df, dtype = 'float32')\n",
    "test_data = np.array(test_df, dtype='float32')"
   ]
  },
  {
   "cell_type": "markdown",
   "metadata": {},
   "source": [
    "Separate label data as y and image data as x and rescale it to (0,1) range from (0,255) range"
   ]
  },
  {
   "cell_type": "code",
   "execution_count": 8,
   "metadata": {},
   "outputs": [],
   "source": [
    "x_train = train_data[:,1:]/255 #Skip 1st column as it is a label data\n",
    "y_train = train_data[:,0] # 1st column is label\n",
    "x_test= test_data[:,1:]/255\n",
    "y_test=test_data[:,0]"
   ]
  },
  {
   "cell_type": "markdown",
   "metadata": {},
   "source": [
    "Split training data as 80% training set and 20% validation set using scikit learn's train_test_split method.\n",
    "Validation set will not update weights and bias of the neural network. \n",
    "It is used to verify neural network performance before validating on test data."
   ]
  },
  {
   "cell_type": "code",
   "execution_count": 9,
   "metadata": {},
   "outputs": [
    {
     "name": "stdout",
     "output_type": "stream",
     "text": [
      "x_train shape: (48000, 784)\n",
      "x_validate shape: (12000, 784)\n",
      "x_test shape: (10000, 784)\n",
      "y_train shape: (48000,)\n",
      "y_validate shape: (12000,)\n",
      "y_test shape: (10000,)\n"
     ]
    }
   ],
   "source": [
    "from sklearn.model_selection import train_test_split\n",
    "x_train,x_validate,y_train,y_validate = train_test_split(x_train,y_train,test_size = 0.2,random_state = 1)\n",
    "print(\"x_train shape: \" + str(x_train.shape))\n",
    "print(\"x_validate shape: \" + str(x_validate.shape))\n",
    "print(\"x_test shape: \" + str(x_test.shape))\n",
    "print(\"y_train shape: \" + str(y_train.shape))\n",
    "print(\"y_validate shape: \" + str(y_validate.shape))\n",
    "print(\"y_test shape: \" + str(y_test.shape))"
   ]
  },
  {
   "cell_type": "markdown",
   "metadata": {},
   "source": [
    "Reshape the x data array in the shape (no of elements, image height, image width, channels). As these are not RGB image, here channel is 1."
   ]
  },
  {
   "cell_type": "code",
   "execution_count": 10,
   "metadata": {},
   "outputs": [
    {
     "name": "stdout",
     "output_type": "stream",
     "text": [
      "x_train shape: (48000, 28, 28, 1)\n",
      "x_validate shape: (12000, 28, 28, 1)\n",
      "x_test shape: (10000, 28, 28, 1)\n"
     ]
    }
   ],
   "source": [
    "height = width = 28\n",
    "x_train = x_train.reshape(x_train.shape[0],height,width,1)\n",
    "x_validate = x_validate.reshape(x_validate.shape[0],height,width,1)\n",
    "x_test = x_test.reshape(x_test.shape[0],height,width,1)\n",
    "print(\"x_train shape: \" + str(x_train.shape))\n",
    "print(\"x_validate shape: \" + str(x_validate.shape))\n",
    "print(\"x_test shape: \" + str(x_test.shape))"
   ]
  },
  {
   "cell_type": "markdown",
   "metadata": {},
   "source": [
    "Let's define a CNN model."
   ]
  },
  {
   "cell_type": "code",
   "execution_count": 11,
   "metadata": {},
   "outputs": [
    {
     "name": "stderr",
     "output_type": "stream",
     "text": [
      "Using TensorFlow backend.\n"
     ]
    },
    {
     "name": "stdout",
     "output_type": "stream",
     "text": [
      "Model: \"sequential_1\"\n",
      "_________________________________________________________________\n",
      "Layer (type)                 Output Shape              Param #   \n",
      "=================================================================\n",
      "conv0 (Conv2D)               (None, 26, 26, 32)        320       \n",
      "_________________________________________________________________\n",
      "bn0 (BatchNormalization)     (None, 26, 26, 32)        104       \n",
      "_________________________________________________________________\n",
      "activation_1 (Activation)    (None, 26, 26, 32)        0         \n",
      "_________________________________________________________________\n",
      "max_pool0 (MaxPooling2D)     (None, 13, 13, 32)        0         \n",
      "_________________________________________________________________\n",
      "dropout_1 (Dropout)          (None, 13, 13, 32)        0         \n",
      "_________________________________________________________________\n",
      "conv1 (Conv2D)               (None, 11, 11, 64)        18496     \n",
      "_________________________________________________________________\n",
      "bn1 (BatchNormalization)     (None, 11, 11, 64)        44        \n",
      "_________________________________________________________________\n",
      "activation_2 (Activation)    (None, 11, 11, 64)        0         \n",
      "_________________________________________________________________\n",
      "max_pool1 (MaxPooling2D)     (None, 5, 5, 64)          0         \n",
      "_________________________________________________________________\n",
      "dropout_2 (Dropout)          (None, 5, 5, 64)          0         \n",
      "_________________________________________________________________\n",
      "conv2 (Conv2D)               (None, 3, 3, 128)         73856     \n",
      "_________________________________________________________________\n",
      "dropout_3 (Dropout)          (None, 3, 3, 128)         0         \n",
      "_________________________________________________________________\n",
      "flatten_1 (Flatten)          (None, 1152)              0         \n",
      "_________________________________________________________________\n",
      "fc (Dense)                   (None, 128)               147584    \n",
      "_________________________________________________________________\n",
      "dropout_4 (Dropout)          (None, 128)               0         \n",
      "_________________________________________________________________\n",
      "dense_1 (Dense)              (None, 10)                1290      \n",
      "=================================================================\n",
      "Total params: 241,694\n",
      "Trainable params: 241,620\n",
      "Non-trainable params: 74\n",
      "_________________________________________________________________\n"
     ]
    }
   ],
   "source": [
    "from keras.models import Sequential\n",
    "from keras.layers import Activation,Conv2D, MaxPooling2D, BatchNormalization, Dense, Dropout, Flatten\n",
    "\n",
    "model = Sequential()\n",
    "model.add(Conv2D(32, kernel_size=(3, 3),kernel_initializer='glorot_uniform',input_shape=(height, width, 1),name='conv0'))\n",
    "model.add(BatchNormalization(axis = 1, name = 'bn0'))\n",
    "model.add(Activation('relu'))\n",
    "model.add(MaxPooling2D(pool_size=(2, 2),name='max_pool0'))\n",
    "model.add(Dropout(0.25))\n",
    "          \n",
    "model.add(Conv2D(64, kernel_size=(3, 3), name='conv1'))\n",
    "model.add(BatchNormalization(axis = 1, name = 'bn1'))\n",
    "model.add(Activation('relu'))\n",
    "model.add(MaxPooling2D(pool_size=(2, 2),name='max_pool1'))\n",
    "model.add(Dropout(0.25))\n",
    "          \n",
    "model.add(Conv2D(128, (3, 3), activation='relu', name='conv2'))\n",
    "\n",
    "model.add(Dropout(0.4))\n",
    "model.add(Flatten())\n",
    "model.add(Dense(128, activation='relu',name = 'fc'))\n",
    "model.add(Dropout(0.3))\n",
    "model.add(Dense(10, activation='softmax'))\n",
    "model.summary()"
   ]
  },
  {
   "cell_type": "markdown",
   "metadata": {},
   "source": [
    "Plot the model"
   ]
  },
  {
   "cell_type": "code",
   "execution_count": 12,
   "metadata": {},
   "outputs": [
    {
     "data": {
      "image/svg+xml": [
       "<svg height=\"1617pt\" viewBox=\"0.00 0.00 178.00 1213.00\" width=\"237pt\" xmlns=\"http://www.w3.org/2000/svg\" xmlns:xlink=\"http://www.w3.org/1999/xlink\">\n",
       "<g class=\"graph\" id=\"graph0\" transform=\"scale(1.33333 1.33333) rotate(0) translate(4 1209)\">\n",
       "<title>G</title>\n",
       "<polygon fill=\"white\" points=\"-4,4 -4,-1209 174,-1209 174,4 -4,4\" stroke=\"none\"/>\n",
       "<!-- 140110324168072 -->\n",
       "<g class=\"node\" id=\"node1\"><title>140110324168072</title>\n",
       "<polygon fill=\"none\" points=\"9,-1168.5 9,-1204.5 161,-1204.5 161,-1168.5 9,-1168.5\" stroke=\"black\"/>\n",
       "<text font-family=\"Times,serif\" font-size=\"14.00\" text-anchor=\"middle\" x=\"85\" y=\"-1182.8\">conv0_input: InputLayer</text>\n",
       "</g>\n",
       "<!-- 140110215408160 -->\n",
       "<g class=\"node\" id=\"node2\"><title>140110215408160</title>\n",
       "<polygon fill=\"none\" points=\"33.5,-1095.5 33.5,-1131.5 136.5,-1131.5 136.5,-1095.5 33.5,-1095.5\" stroke=\"black\"/>\n",
       "<text font-family=\"Times,serif\" font-size=\"14.00\" text-anchor=\"middle\" x=\"85\" y=\"-1109.8\">conv0: Conv2D</text>\n",
       "</g>\n",
       "<!-- 140110324168072&#45;&gt;140110215408160 -->\n",
       "<g class=\"edge\" id=\"edge1\"><title>140110324168072-&gt;140110215408160</title>\n",
       "<path d=\"M85,-1168.31C85,-1160.29 85,-1150.55 85,-1141.57\" fill=\"none\" stroke=\"black\"/>\n",
       "<polygon fill=\"black\" points=\"88.5001,-1141.53 85,-1131.53 81.5001,-1141.53 88.5001,-1141.53\" stroke=\"black\"/>\n",
       "</g>\n",
       "<!-- 140110215408944 -->\n",
       "<g class=\"node\" id=\"node3\"><title>140110215408944</title>\n",
       "<polygon fill=\"none\" points=\"7.5,-1022.5 7.5,-1058.5 162.5,-1058.5 162.5,-1022.5 7.5,-1022.5\" stroke=\"black\"/>\n",
       "<text font-family=\"Times,serif\" font-size=\"14.00\" text-anchor=\"middle\" x=\"85\" y=\"-1036.8\">bn0: BatchNormalization</text>\n",
       "</g>\n",
       "<!-- 140110215408160&#45;&gt;140110215408944 -->\n",
       "<g class=\"edge\" id=\"edge2\"><title>140110215408160-&gt;140110215408944</title>\n",
       "<path d=\"M85,-1095.31C85,-1087.29 85,-1077.55 85,-1068.57\" fill=\"none\" stroke=\"black\"/>\n",
       "<polygon fill=\"black\" points=\"88.5001,-1068.53 85,-1058.53 81.5001,-1068.53 88.5001,-1068.53\" stroke=\"black\"/>\n",
       "</g>\n",
       "<!-- 140110323266112 -->\n",
       "<g class=\"node\" id=\"node4\"><title>140110323266112</title>\n",
       "<polygon fill=\"none\" points=\"11,-949.5 11,-985.5 159,-985.5 159,-949.5 11,-949.5\" stroke=\"black\"/>\n",
       "<text font-family=\"Times,serif\" font-size=\"14.00\" text-anchor=\"middle\" x=\"85\" y=\"-963.8\">activation_1: Activation</text>\n",
       "</g>\n",
       "<!-- 140110215408944&#45;&gt;140110323266112 -->\n",
       "<g class=\"edge\" id=\"edge3\"><title>140110215408944-&gt;140110323266112</title>\n",
       "<path d=\"M85,-1022.31C85,-1014.29 85,-1004.55 85,-995.569\" fill=\"none\" stroke=\"black\"/>\n",
       "<polygon fill=\"black\" points=\"88.5001,-995.529 85,-985.529 81.5001,-995.529 88.5001,-995.529\" stroke=\"black\"/>\n",
       "</g>\n",
       "<!-- 140110323267624 -->\n",
       "<g class=\"node\" id=\"node5\"><title>140110323267624</title>\n",
       "<polygon fill=\"none\" points=\"0,-876.5 0,-912.5 170,-912.5 170,-876.5 0,-876.5\" stroke=\"black\"/>\n",
       "<text font-family=\"Times,serif\" font-size=\"14.00\" text-anchor=\"middle\" x=\"85\" y=\"-890.8\">max_pool0: MaxPooling2D</text>\n",
       "</g>\n",
       "<!-- 140110323266112&#45;&gt;140110323267624 -->\n",
       "<g class=\"edge\" id=\"edge4\"><title>140110323266112-&gt;140110323267624</title>\n",
       "<path d=\"M85,-949.313C85,-941.289 85,-931.547 85,-922.569\" fill=\"none\" stroke=\"black\"/>\n",
       "<polygon fill=\"black\" points=\"88.5001,-922.529 85,-912.529 81.5001,-922.529 88.5001,-922.529\" stroke=\"black\"/>\n",
       "</g>\n",
       "<!-- 140111233695360 -->\n",
       "<g class=\"node\" id=\"node6\"><title>140111233695360</title>\n",
       "<polygon fill=\"none\" points=\"22.5,-803.5 22.5,-839.5 147.5,-839.5 147.5,-803.5 22.5,-803.5\" stroke=\"black\"/>\n",
       "<text font-family=\"Times,serif\" font-size=\"14.00\" text-anchor=\"middle\" x=\"85\" y=\"-817.8\">dropout_1: Dropout</text>\n",
       "</g>\n",
       "<!-- 140110323267624&#45;&gt;140111233695360 -->\n",
       "<g class=\"edge\" id=\"edge5\"><title>140110323267624-&gt;140111233695360</title>\n",
       "<path d=\"M85,-876.313C85,-868.289 85,-858.547 85,-849.569\" fill=\"none\" stroke=\"black\"/>\n",
       "<polygon fill=\"black\" points=\"88.5001,-849.529 85,-839.529 81.5001,-849.529 88.5001,-849.529\" stroke=\"black\"/>\n",
       "</g>\n",
       "<!-- 140110229704488 -->\n",
       "<g class=\"node\" id=\"node7\"><title>140110229704488</title>\n",
       "<polygon fill=\"none\" points=\"33.5,-730.5 33.5,-766.5 136.5,-766.5 136.5,-730.5 33.5,-730.5\" stroke=\"black\"/>\n",
       "<text font-family=\"Times,serif\" font-size=\"14.00\" text-anchor=\"middle\" x=\"85\" y=\"-744.8\">conv1: Conv2D</text>\n",
       "</g>\n",
       "<!-- 140111233695360&#45;&gt;140110229704488 -->\n",
       "<g class=\"edge\" id=\"edge6\"><title>140111233695360-&gt;140110229704488</title>\n",
       "<path d=\"M85,-803.313C85,-795.289 85,-785.547 85,-776.569\" fill=\"none\" stroke=\"black\"/>\n",
       "<polygon fill=\"black\" points=\"88.5001,-776.529 85,-766.529 81.5001,-776.529 88.5001,-776.529\" stroke=\"black\"/>\n",
       "</g>\n",
       "<!-- 140110323267736 -->\n",
       "<g class=\"node\" id=\"node8\"><title>140110323267736</title>\n",
       "<polygon fill=\"none\" points=\"7.5,-657.5 7.5,-693.5 162.5,-693.5 162.5,-657.5 7.5,-657.5\" stroke=\"black\"/>\n",
       "<text font-family=\"Times,serif\" font-size=\"14.00\" text-anchor=\"middle\" x=\"85\" y=\"-671.8\">bn1: BatchNormalization</text>\n",
       "</g>\n",
       "<!-- 140110229704488&#45;&gt;140110323267736 -->\n",
       "<g class=\"edge\" id=\"edge7\"><title>140110229704488-&gt;140110323267736</title>\n",
       "<path d=\"M85,-730.313C85,-722.289 85,-712.547 85,-703.569\" fill=\"none\" stroke=\"black\"/>\n",
       "<polygon fill=\"black\" points=\"88.5001,-703.529 85,-693.529 81.5001,-703.529 88.5001,-703.529\" stroke=\"black\"/>\n",
       "</g>\n",
       "<!-- 140110229581272 -->\n",
       "<g class=\"node\" id=\"node9\"><title>140110229581272</title>\n",
       "<polygon fill=\"none\" points=\"11,-584.5 11,-620.5 159,-620.5 159,-584.5 11,-584.5\" stroke=\"black\"/>\n",
       "<text font-family=\"Times,serif\" font-size=\"14.00\" text-anchor=\"middle\" x=\"85\" y=\"-598.8\">activation_2: Activation</text>\n",
       "</g>\n",
       "<!-- 140110323267736&#45;&gt;140110229581272 -->\n",
       "<g class=\"edge\" id=\"edge8\"><title>140110323267736-&gt;140110229581272</title>\n",
       "<path d=\"M85,-657.313C85,-649.289 85,-639.547 85,-630.569\" fill=\"none\" stroke=\"black\"/>\n",
       "<polygon fill=\"black\" points=\"88.5001,-630.529 85,-620.529 81.5001,-630.529 88.5001,-630.529\" stroke=\"black\"/>\n",
       "</g>\n",
       "<!-- 140110228864976 -->\n",
       "<g class=\"node\" id=\"node10\"><title>140110228864976</title>\n",
       "<polygon fill=\"none\" points=\"0,-511.5 0,-547.5 170,-547.5 170,-511.5 0,-511.5\" stroke=\"black\"/>\n",
       "<text font-family=\"Times,serif\" font-size=\"14.00\" text-anchor=\"middle\" x=\"85\" y=\"-525.8\">max_pool1: MaxPooling2D</text>\n",
       "</g>\n",
       "<!-- 140110229581272&#45;&gt;140110228864976 -->\n",
       "<g class=\"edge\" id=\"edge9\"><title>140110229581272-&gt;140110228864976</title>\n",
       "<path d=\"M85,-584.313C85,-576.289 85,-566.547 85,-557.569\" fill=\"none\" stroke=\"black\"/>\n",
       "<polygon fill=\"black\" points=\"88.5001,-557.529 85,-547.529 81.5001,-557.529 88.5001,-557.529\" stroke=\"black\"/>\n",
       "</g>\n",
       "<!-- 140110229203712 -->\n",
       "<g class=\"node\" id=\"node11\"><title>140110229203712</title>\n",
       "<polygon fill=\"none\" points=\"22.5,-438.5 22.5,-474.5 147.5,-474.5 147.5,-438.5 22.5,-438.5\" stroke=\"black\"/>\n",
       "<text font-family=\"Times,serif\" font-size=\"14.00\" text-anchor=\"middle\" x=\"85\" y=\"-452.8\">dropout_2: Dropout</text>\n",
       "</g>\n",
       "<!-- 140110228864976&#45;&gt;140110229203712 -->\n",
       "<g class=\"edge\" id=\"edge10\"><title>140110228864976-&gt;140110229203712</title>\n",
       "<path d=\"M85,-511.313C85,-503.289 85,-493.547 85,-484.569\" fill=\"none\" stroke=\"black\"/>\n",
       "<polygon fill=\"black\" points=\"88.5001,-484.529 85,-474.529 81.5001,-484.529 88.5001,-484.529\" stroke=\"black\"/>\n",
       "</g>\n",
       "<!-- 140110229002112 -->\n",
       "<g class=\"node\" id=\"node12\"><title>140110229002112</title>\n",
       "<polygon fill=\"none\" points=\"33.5,-365.5 33.5,-401.5 136.5,-401.5 136.5,-365.5 33.5,-365.5\" stroke=\"black\"/>\n",
       "<text font-family=\"Times,serif\" font-size=\"14.00\" text-anchor=\"middle\" x=\"85\" y=\"-379.8\">conv2: Conv2D</text>\n",
       "</g>\n",
       "<!-- 140110229203712&#45;&gt;140110229002112 -->\n",
       "<g class=\"edge\" id=\"edge11\"><title>140110229203712-&gt;140110229002112</title>\n",
       "<path d=\"M85,-438.313C85,-430.289 85,-420.547 85,-411.569\" fill=\"none\" stroke=\"black\"/>\n",
       "<polygon fill=\"black\" points=\"88.5001,-411.529 85,-401.529 81.5001,-411.529 88.5001,-411.529\" stroke=\"black\"/>\n",
       "</g>\n",
       "<!-- 140110228178760 -->\n",
       "<g class=\"node\" id=\"node13\"><title>140110228178760</title>\n",
       "<polygon fill=\"none\" points=\"22.5,-292.5 22.5,-328.5 147.5,-328.5 147.5,-292.5 22.5,-292.5\" stroke=\"black\"/>\n",
       "<text font-family=\"Times,serif\" font-size=\"14.00\" text-anchor=\"middle\" x=\"85\" y=\"-306.8\">dropout_3: Dropout</text>\n",
       "</g>\n",
       "<!-- 140110229002112&#45;&gt;140110228178760 -->\n",
       "<g class=\"edge\" id=\"edge12\"><title>140110229002112-&gt;140110228178760</title>\n",
       "<path d=\"M85,-365.313C85,-357.289 85,-347.547 85,-338.569\" fill=\"none\" stroke=\"black\"/>\n",
       "<polygon fill=\"black\" points=\"88.5001,-338.529 85,-328.529 81.5001,-338.529 88.5001,-338.529\" stroke=\"black\"/>\n",
       "</g>\n",
       "<!-- 140110227900120 -->\n",
       "<g class=\"node\" id=\"node14\"><title>140110227900120</title>\n",
       "<polygon fill=\"none\" points=\"30,-219.5 30,-255.5 140,-255.5 140,-219.5 30,-219.5\" stroke=\"black\"/>\n",
       "<text font-family=\"Times,serif\" font-size=\"14.00\" text-anchor=\"middle\" x=\"85\" y=\"-233.8\">flatten_1: Flatten</text>\n",
       "</g>\n",
       "<!-- 140110228178760&#45;&gt;140110227900120 -->\n",
       "<g class=\"edge\" id=\"edge13\"><title>140110228178760-&gt;140110227900120</title>\n",
       "<path d=\"M85,-292.313C85,-284.289 85,-274.547 85,-265.569\" fill=\"none\" stroke=\"black\"/>\n",
       "<polygon fill=\"black\" points=\"88.5001,-265.529 85,-255.529 81.5001,-265.529 88.5001,-265.529\" stroke=\"black\"/>\n",
       "</g>\n",
       "<!-- 140110227902192 -->\n",
       "<g class=\"node\" id=\"node15\"><title>140110227902192</title>\n",
       "<polygon fill=\"none\" points=\"51,-146.5 51,-182.5 119,-182.5 119,-146.5 51,-146.5\" stroke=\"black\"/>\n",
       "<text font-family=\"Times,serif\" font-size=\"14.00\" text-anchor=\"middle\" x=\"85\" y=\"-160.8\">fc: Dense</text>\n",
       "</g>\n",
       "<!-- 140110227900120&#45;&gt;140110227902192 -->\n",
       "<g class=\"edge\" id=\"edge14\"><title>140110227900120-&gt;140110227902192</title>\n",
       "<path d=\"M85,-219.313C85,-211.289 85,-201.547 85,-192.569\" fill=\"none\" stroke=\"black\"/>\n",
       "<polygon fill=\"black\" points=\"88.5001,-192.529 85,-182.529 81.5001,-192.529 88.5001,-192.529\" stroke=\"black\"/>\n",
       "</g>\n",
       "<!-- 140110228007344 -->\n",
       "<g class=\"node\" id=\"node16\"><title>140110228007344</title>\n",
       "<polygon fill=\"none\" points=\"22.5,-73.5 22.5,-109.5 147.5,-109.5 147.5,-73.5 22.5,-73.5\" stroke=\"black\"/>\n",
       "<text font-family=\"Times,serif\" font-size=\"14.00\" text-anchor=\"middle\" x=\"85\" y=\"-87.8\">dropout_4: Dropout</text>\n",
       "</g>\n",
       "<!-- 140110227902192&#45;&gt;140110228007344 -->\n",
       "<g class=\"edge\" id=\"edge15\"><title>140110227902192-&gt;140110228007344</title>\n",
       "<path d=\"M85,-146.313C85,-138.289 85,-128.547 85,-119.569\" fill=\"none\" stroke=\"black\"/>\n",
       "<polygon fill=\"black\" points=\"88.5001,-119.529 85,-109.529 81.5001,-119.529 88.5001,-119.529\" stroke=\"black\"/>\n",
       "</g>\n",
       "<!-- 140110032247328 -->\n",
       "<g class=\"node\" id=\"node17\"><title>140110032247328</title>\n",
       "<polygon fill=\"none\" points=\"34,-0.5 34,-36.5 136,-36.5 136,-0.5 34,-0.5\" stroke=\"black\"/>\n",
       "<text font-family=\"Times,serif\" font-size=\"14.00\" text-anchor=\"middle\" x=\"85\" y=\"-14.8\">dense_1: Dense</text>\n",
       "</g>\n",
       "<!-- 140110228007344&#45;&gt;140110032247328 -->\n",
       "<g class=\"edge\" id=\"edge16\"><title>140110228007344-&gt;140110032247328</title>\n",
       "<path d=\"M85,-73.3129C85,-65.2895 85,-55.5475 85,-46.5691\" fill=\"none\" stroke=\"black\"/>\n",
       "<polygon fill=\"black\" points=\"88.5001,-46.5288 85,-36.5288 81.5001,-46.5289 88.5001,-46.5288\" stroke=\"black\"/>\n",
       "</g>\n",
       "</g>\n",
       "</svg>"
      ],
      "text/plain": [
       "<IPython.core.display.SVG object>"
      ]
     },
     "execution_count": 12,
     "metadata": {},
     "output_type": "execute_result"
    }
   ],
   "source": [
    "from IPython.display import SVG\n",
    "from keras.utils.vis_utils import model_to_dot\n",
    "from keras.utils import plot_model\n",
    "plot_model(model, to_file='model.png')\n",
    "SVG(model_to_dot(model).create(prog='dot', format='svg'))"
   ]
  },
  {
   "cell_type": "markdown",
   "metadata": {},
   "source": [
    "Compile the model"
   ]
  },
  {
   "cell_type": "code",
   "execution_count": 13,
   "metadata": {},
   "outputs": [],
   "source": [
    "model.compile(loss ='sparse_categorical_crossentropy', optimizer= 'Adam',metrics =['accuracy'])"
   ]
  },
  {
   "cell_type": "markdown",
   "metadata": {},
   "source": [
    "Train the model on fix number of epochs (iteration of training set).\n",
    "Here batch size indicate that after 128 training data (here 1 batch) weights and bias updates during single epoch training."
   ]
  },
  {
   "cell_type": "code",
   "execution_count": 14,
   "metadata": {},
   "outputs": [
    {
     "name": "stdout",
     "output_type": "stream",
     "text": [
      "Train on 48000 samples, validate on 12000 samples\n",
      "Epoch 1/50\n",
      "48000/48000 [==============================] - 55s 1ms/step - loss: 0.7994 - accuracy: 0.7045 - val_loss: 0.5970 - val_accuracy: 0.8288\n",
      "Epoch 2/50\n",
      "48000/48000 [==============================] - 54s 1ms/step - loss: 0.4943 - accuracy: 0.8182 - val_loss: 0.3717 - val_accuracy: 0.8605\n",
      "Epoch 3/50\n",
      "48000/48000 [==============================] - 55s 1ms/step - loss: 0.4301 - accuracy: 0.8424 - val_loss: 0.3407 - val_accuracy: 0.8726\n",
      "Epoch 4/50\n",
      "48000/48000 [==============================] - 56s 1ms/step - loss: 0.3980 - accuracy: 0.8542 - val_loss: 0.3237 - val_accuracy: 0.8808\n",
      "Epoch 5/50\n",
      "48000/48000 [==============================] - 56s 1ms/step - loss: 0.3718 - accuracy: 0.8635 - val_loss: 0.3077 - val_accuracy: 0.8844\n",
      "Epoch 6/50\n",
      "48000/48000 [==============================] - 55s 1ms/step - loss: 0.3584 - accuracy: 0.8696 - val_loss: 0.2970 - val_accuracy: 0.8908\n",
      "Epoch 7/50\n",
      "48000/48000 [==============================] - 54s 1ms/step - loss: 0.3421 - accuracy: 0.8742 - val_loss: 0.2939 - val_accuracy: 0.8931\n",
      "Epoch 8/50\n",
      "48000/48000 [==============================] - 56s 1ms/step - loss: 0.3248 - accuracy: 0.8797 - val_loss: 0.2753 - val_accuracy: 0.8966\n",
      "Epoch 9/50\n",
      "48000/48000 [==============================] - 55s 1ms/step - loss: 0.3177 - accuracy: 0.8826 - val_loss: 0.2649 - val_accuracy: 0.9026\n",
      "Epoch 10/50\n",
      "48000/48000 [==============================] - 54s 1ms/step - loss: 0.3101 - accuracy: 0.8853 - val_loss: 0.2657 - val_accuracy: 0.9028\n",
      "Epoch 11/50\n",
      "48000/48000 [==============================] - 54s 1ms/step - loss: 0.3010 - accuracy: 0.8880 - val_loss: 0.2670 - val_accuracy: 0.9014\n",
      "Epoch 12/50\n",
      "48000/48000 [==============================] - 54s 1ms/step - loss: 0.2948 - accuracy: 0.8917 - val_loss: 0.2652 - val_accuracy: 0.9040\n",
      "Epoch 13/50\n",
      "48000/48000 [==============================] - 54s 1ms/step - loss: 0.2895 - accuracy: 0.8950 - val_loss: 0.2473 - val_accuracy: 0.9096\n",
      "Epoch 14/50\n",
      "48000/48000 [==============================] - 56s 1ms/step - loss: 0.2813 - accuracy: 0.8953 - val_loss: 0.2547 - val_accuracy: 0.9077\n",
      "Epoch 15/50\n",
      "48000/48000 [==============================] - 55s 1ms/step - loss: 0.2750 - accuracy: 0.8991 - val_loss: 0.2432 - val_accuracy: 0.9103\n",
      "Epoch 16/50\n",
      "48000/48000 [==============================] - 54s 1ms/step - loss: 0.2744 - accuracy: 0.8976 - val_loss: 0.2497 - val_accuracy: 0.9101\n",
      "Epoch 17/50\n",
      "48000/48000 [==============================] - 54s 1ms/step - loss: 0.2678 - accuracy: 0.8999 - val_loss: 0.2371 - val_accuracy: 0.9152\n",
      "Epoch 18/50\n",
      "48000/48000 [==============================] - 55s 1ms/step - loss: 0.2632 - accuracy: 0.9016 - val_loss: 0.2424 - val_accuracy: 0.9128\n",
      "Epoch 19/50\n",
      "48000/48000 [==============================] - 55s 1ms/step - loss: 0.2594 - accuracy: 0.9045 - val_loss: 0.2387 - val_accuracy: 0.9109\n",
      "Epoch 20/50\n",
      "48000/48000 [==============================] - 54s 1ms/step - loss: 0.2550 - accuracy: 0.9046 - val_loss: 0.2350 - val_accuracy: 0.9137\n",
      "Epoch 21/50\n",
      "48000/48000 [==============================] - 55s 1ms/step - loss: 0.2542 - accuracy: 0.9058 - val_loss: 0.2362 - val_accuracy: 0.9139\n",
      "Epoch 22/50\n",
      "48000/48000 [==============================] - 52s 1ms/step - loss: 0.2459 - accuracy: 0.9087 - val_loss: 0.2501 - val_accuracy: 0.9038\n",
      "Epoch 23/50\n",
      "48000/48000 [==============================] - 53s 1ms/step - loss: 0.2458 - accuracy: 0.9079 - val_loss: 0.2318 - val_accuracy: 0.9149\n",
      "Epoch 24/50\n",
      "48000/48000 [==============================] - 55s 1ms/step - loss: 0.2441 - accuracy: 0.9089 - val_loss: 0.2335 - val_accuracy: 0.9147\n",
      "Epoch 25/50\n",
      "48000/48000 [==============================] - 55s 1ms/step - loss: 0.2429 - accuracy: 0.9095 - val_loss: 0.2283 - val_accuracy: 0.9163\n",
      "Epoch 26/50\n",
      "48000/48000 [==============================] - 54s 1ms/step - loss: 0.2387 - accuracy: 0.9102 - val_loss: 0.2322 - val_accuracy: 0.9149\n",
      "Epoch 27/50\n",
      "48000/48000 [==============================] - 53s 1ms/step - loss: 0.2362 - accuracy: 0.9125 - val_loss: 0.2292 - val_accuracy: 0.9147\n",
      "Epoch 28/50\n",
      "48000/48000 [==============================] - 54s 1ms/step - loss: 0.2326 - accuracy: 0.9131 - val_loss: 0.2264 - val_accuracy: 0.9182\n",
      "Epoch 29/50\n",
      "48000/48000 [==============================] - 54s 1ms/step - loss: 0.2309 - accuracy: 0.9129 - val_loss: 0.2240 - val_accuracy: 0.9186\n",
      "Epoch 30/50\n",
      "48000/48000 [==============================] - 54s 1ms/step - loss: 0.2258 - accuracy: 0.9164 - val_loss: 0.2225 - val_accuracy: 0.9205\n",
      "Epoch 31/50\n",
      "48000/48000 [==============================] - 55s 1ms/step - loss: 0.2265 - accuracy: 0.9133 - val_loss: 0.2252 - val_accuracy: 0.9187\n",
      "Epoch 32/50\n",
      "48000/48000 [==============================] - 54s 1ms/step - loss: 0.2275 - accuracy: 0.9166 - val_loss: 0.2237 - val_accuracy: 0.9202\n",
      "Epoch 33/50\n",
      "48000/48000 [==============================] - 53s 1ms/step - loss: 0.2201 - accuracy: 0.9168 - val_loss: 0.2188 - val_accuracy: 0.9204\n",
      "Epoch 34/50\n",
      "48000/48000 [==============================] - 52s 1ms/step - loss: 0.2206 - accuracy: 0.9168 - val_loss: 0.2176 - val_accuracy: 0.9211\n",
      "Epoch 35/50\n",
      "24960/48000 [==============>...............] - ETA: 24s - loss: 0.2132 - accuracy: 0.9191"
     ]
    }
   ],
   "source": [
    "history = model.fit(x_train,y_train,batch_size=128,epochs=50,verbose=1,validation_data=(x_validate,y_validate))"
   ]
  },
  {
   "cell_type": "code",
   "execution_count": 15,
   "metadata": {},
   "outputs": [
    {
     "data": {
      "image/png": "[encoded data removed]",
      "text/plain": [
       "<Figure size 432x288 with 1 Axes>"
      ]
     },
     "metadata": {
      "needs_background": "light"
     },
     "output_type": "display_data"
    },
    {
     "data": {
      "image/png": "[encoded data removed]",
      "text/plain": [
       "<Figure size 432x288 with 1 Axes>"
      ]
     },
     "metadata": {
      "needs_background": "light"
     },
     "output_type": "display_data"
    }
   ],
   "source": [
    "import matplotlib.pyplot as plt\n",
    "\n",
    "# Plot training & validation accuracy values\n",
    "plt.plot(history.history['accuracy'])\n",
    "plt.plot(history.history['val_accuracy'])\n",
    "plt.title('Model accuracy')\n",
    "plt.ylabel('Accuracy')\n",
    "plt.xlabel('Epoch')\n",
    "plt.legend(['Train', 'Validate'], loc='upper left')\n",
    "plt.show()\n",
    "\n",
    "# Plot training & validation loss values\n",
    "plt.plot(history.history['loss'])\n",
    "plt.plot(history.history['val_loss'])\n",
    "plt.title('Model loss')\n",
    "plt.ylabel('Loss')\n",
    "plt.xlabel('Epoch')\n",
    "plt.legend(['Train', 'Validate'], loc='upper left')\n",
    "plt.show()"
   ]
  },
  {
   "cell_type": "markdown",
   "metadata": {},
   "source": [
    "Let's evaluate the model on test set"
   ]
  },
  {
   "cell_type": "code",
   "execution_count": 16,
   "metadata": {},
   "outputs": [
    {
     "name": "stdout",
     "output_type": "stream",
     "text": [
      "10000/10000 [==============================] - 4s 375us/step\n",
      "Loss: 0.2024013391792774\n",
      "Accuracy: 0.9254999756813049\n"
     ]
    }
   ],
   "source": [
    "score = model.evaluate(x_test, y_test)\n",
    "print('Loss: '+ str(score[0]))\n",
    "print('Accuracy: '+ str(score[1]))"
   ]
  },
  {
   "cell_type": "markdown",
   "metadata": {},
   "source": [
    "Let's have a look at classification report which provides details about precision, recall and f1-score."
   ]
  },
  {
   "cell_type": "code",
   "execution_count": 17,
   "metadata": {},
   "outputs": [
    {
     "name": "stdout",
     "output_type": "stream",
     "text": [
      "              precision    recall  f1-score   support\n",
      "\n",
      " T-shirt/Top       0.83      0.92      0.87      1000\n",
      "     Trouser       0.99      0.99      0.99      1000\n",
      "    Pullover       0.88      0.91      0.89      1000\n",
      "       Dress       0.92      0.95      0.93      1000\n",
      "        Coat       0.90      0.88      0.89      1000\n",
      "      Sandal       0.99      0.98      0.98      1000\n",
      "       Shirt       0.82      0.70      0.76      1000\n",
      "     Sneaker       0.95      0.98      0.96      1000\n",
      "         Bag       0.99      0.99      0.99      1000\n",
      "  Ankle Boot       0.98      0.96      0.97      1000\n",
      "\n",
      "    accuracy                           0.93     10000\n",
      "   macro avg       0.93      0.93      0.92     10000\n",
      "weighted avg       0.93      0.93      0.92     10000\n",
      "\n"
     ]
    }
   ],
   "source": [
    "#get the predictions for the test data\n",
    "predicted_classes = model.predict_classes(x_test)\n",
    "\n",
    "#get the indices to be plotted\n",
    "y_true = test_df.iloc[:, 0]\n",
    "\n",
    "classes = ['T-shirt/Top','Trouser','Pullover','Dress','Coat','Sandal','Shirt','Sneaker','Bag','Ankle Boot']\n",
    "\n",
    "from sklearn.metrics import confusion_matrix, classification_report\n",
    "print(classification_report(y_true, predicted_classes, target_names = classes))"
   ]
  },
  {
   "cell_type": "markdown",
   "metadata": {},
   "source": [
    "Let's check model's performance using confution matrix.\n",
    "\n",
    "[More details on confusion matrix](https://towardsdatascience.com/understanding-confusion-matrix-a9ad42dcfd62)\n",
    "\n",
    "[Other ways to evaluate model's performance](https://towardsdatascience.com/various-ways-to-evaluate-a-machine-learning-models-performance-230449055f15)"
   ]
  },
  {
   "cell_type": "code",
   "execution_count": 18,
   "metadata": {},
   "outputs": [
    {
     "name": "stdout",
     "output_type": "stream",
     "text": [
      "[[916   1  16  13   1   0  49   0   4   0]\n",
      " [  1 991   0   6   1   0   1   0   0   0]\n",
      " [ 11   0 907  10  27   0  41   0   4   0]\n",
      " [ 19   3   1 946  16   0  14   0   0   1]\n",
      " [  2   0  47  22 883   1  44   0   1   0]\n",
      " [  0   0   0   0   0 977   0  17   1   5]\n",
      " [155   2  57  29  51   0 703   0   3   0]\n",
      " [  0   0   0   0   0   3   0 982   0  15]\n",
      " [  1   0   6   0   1   1   1   1 988   1]\n",
      " [  0   0   0   0   0   2   0  36   0 962]]\n"
     ]
    }
   ],
   "source": [
    "confusion_mtx = confusion_matrix(y_true, predicted_classes) \n",
    "print(confusion_mtx)"
   ]
  },
  {
   "cell_type": "markdown",
   "metadata": {},
   "source": [
    "Let's plot the confution matrix for better visulization"
   ]
  },
  {
   "cell_type": "code",
   "execution_count": 19,
   "metadata": {},
   "outputs": [
    {
     "data": {
      "text/plain": [
       "Text(0.5, -28.875, 'Predicted label')"
      ]
     },
     "execution_count": 19,
     "metadata": {},
     "output_type": "execute_result"
    },
    {
     "data": {
      "image/png": "[encoded data removed]",
      "text/plain": [
       "<Figure size 432x288 with 2 Axes>"
      ]
     },
     "metadata": {
      "needs_background": "light"
     },
     "output_type": "display_data"
    }
   ],
   "source": [
    "import itertools\n",
    "plt.imshow(confusion_mtx, interpolation='nearest', cmap=plt.cm.Blues)\n",
    "plt.title('confusion_matrix')\n",
    "plt.colorbar()\n",
    "tick_marks = np.arange(len(classes))\n",
    "plt.xticks(tick_marks, classes, rotation=90)\n",
    "plt.yticks(tick_marks, classes)\n",
    "#Following is to mention the predicated numbers in the plot and highligh the numbers the most predicted number for particular label\n",
    "thresh = confusion_mtx.max() / 2.\n",
    "for i, j in itertools.product(range(confusion_mtx.shape[0]), range(confusion_mtx.shape[1])):\n",
    "    plt.text(j, i, confusion_mtx[i, j],\n",
    "    horizontalalignment=\"center\",\n",
    "    color=\"white\" if confusion_mtx[i, j] > thresh else \"black\")\n",
    "\n",
    "plt.tight_layout()\n",
    "plt.ylabel('True label')\n",
    "plt.xlabel('Predicted label')"
   ]
  },
  {
   "cell_type": "markdown",
   "metadata": {},
   "source": [
    "Let's check few items which are predicted correctly."
   ]
  },
  {
   "cell_type": "code",
   "execution_count": 20,
   "metadata": {},
   "outputs": [
    {
     "name": "stderr",
     "output_type": "stream",
     "text": [
      "/opt/conda/lib/python3.6/site-packages/numpy/core/fromnumeric.py:56: FutureWarning: Series.nonzero() is deprecated and will be removed in a future version.Use Series.to_numpy().nonzero() instead\n",
      "  return getattr(obj, method)(*args, **kwds)\n"
     ]
    },
    {
     "data": {
      "image/png": "[encoded data removed]",
      "text/plain": [
       "<Figure size 432x288 with 9 Axes>"
      ]
     },
     "metadata": {
      "needs_background": "light"
     },
     "output_type": "display_data"
    }
   ],
   "source": [
    "correct = np.nonzero(predicted_classes==y_true)[0]\n",
    "i = 1\n",
    "for correct in np.nditer(correct[:9]):\n",
    "    plt.subplot(3,3,i)\n",
    "    i += 1\n",
    "    plt.imshow(x_test[correct].reshape(28,28), cmap='Greens', interpolation='none')\n",
    "    plt.title(\"Predicted : \" + str(clothing[predicted_classes[correct]]) + \"\\n\"+\"Actual : \" + str(clothing[y_true[correct]]))\n",
    "    plt.tight_layout()"
   ]
  },
  {
   "cell_type": "markdown",
   "metadata": {},
   "source": [
    "Let's check few items which are predicted incorrectly."
   ]
  },
  {
   "cell_type": "code",
   "execution_count": 21,
   "metadata": {},
   "outputs": [
    {
     "name": "stdout",
     "output_type": "stream",
     "text": [
      "\n",
      "\n",
      "\n",
      "\n",
      "\n",
      "\n",
      "\n",
      "\n",
      "\n"
     ]
    },
    {
     "data": {
      "image/png": "[encoded data removed]",
      "text/plain": [
       "<Figure size 432x288 with 9 Axes>"
      ]
     },
     "metadata": {
      "needs_background": "light"
     },
     "output_type": "display_data"
    }
   ],
   "source": [
    "incorrect = np.nonzero(predicted_classes!=y_true)[0]\n",
    "i = 1\n",
    "for incorrect in np.nditer(incorrect[:9]):\n",
    "    plt.subplot(3,3,i)\n",
    "    i += 1\n",
    "    print()\n",
    "    plt.imshow(x_test[incorrect].reshape(28,28), cmap='Reds', interpolation='none')\n",
    "    plt.title(\"Predicted : \" + str(clothing[predicted_classes[incorrect]]) + \"\\n\"+\"Actual : \" + str(clothing[y_true[incorrect]]))\n",
    "    plt.tight_layout()"
   ]
  }
 ],
 "metadata": {
  "kernelspec": {
   "display_name": "Python 3",
   "language": "python",
   "name": "python3"
  },
  "language_info": {
   "codemirror_mode": {
    "name": "ipython",
    "version": 3
   },
   "file_extension": ".py",
   "mimetype": "text/x-python",
   "name": "python",
   "nbconvert_exporter": "python",
   "pygments_lexer": "ipython3",
   "version": "3.6.6"
  }
 },
 "nbformat": 4,
 "nbformat_minor": 1
}
